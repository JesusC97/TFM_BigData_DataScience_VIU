{
  "nbformat": 4,
  "nbformat_minor": 0,
  "metadata": {
    "colab": {
      "provenance": []
    },
    "kernelspec": {
      "name": "python3",
      "display_name": "Python 3"
    },
    "language_info": {
      "name": "python"
    },
    "widgets": {
      "application/vnd.jupyter.widget-state+json": {
        "ccfceeedc6a846c390cd535efe41fdfa": {
          "model_module": "@jupyter-widgets/controls",
          "model_name": "HBoxModel",
          "model_module_version": "1.5.0",
          "state": {
            "_dom_classes": [],
            "_model_module": "@jupyter-widgets/controls",
            "_model_module_version": "1.5.0",
            "_model_name": "HBoxModel",
            "_view_count": null,
            "_view_module": "@jupyter-widgets/controls",
            "_view_module_version": "1.5.0",
            "_view_name": "HBoxView",
            "box_style": "",
            "children": [
              "IPY_MODEL_be0c393fc6bc47b18ea5f20e14247b71",
              "IPY_MODEL_5803345eda61403fa58f495b0ba0a76e",
              "IPY_MODEL_7e08b0b4d87e4ffa8e69cef68d6d2971"
            ],
            "layout": "IPY_MODEL_5b71ac90fbfb471bb2699170ddbfae5c"
          }
        },
        "be0c393fc6bc47b18ea5f20e14247b71": {
          "model_module": "@jupyter-widgets/controls",
          "model_name": "HTMLModel",
          "model_module_version": "1.5.0",
          "state": {
            "_dom_classes": [],
            "_model_module": "@jupyter-widgets/controls",
            "_model_module_version": "1.5.0",
            "_model_name": "HTMLModel",
            "_view_count": null,
            "_view_module": "@jupyter-widgets/controls",
            "_view_module_version": "1.5.0",
            "_view_name": "HTMLView",
            "description": "",
            "description_tooltip": null,
            "layout": "IPY_MODEL_d233153e32f44922ac72ad2d4e11130b",
            "placeholder": "​",
            "style": "IPY_MODEL_6867bd283b0f4c4d9808a8bb4e19baa4",
            "value": "100%"
          }
        },
        "5803345eda61403fa58f495b0ba0a76e": {
          "model_module": "@jupyter-widgets/controls",
          "model_name": "FloatProgressModel",
          "model_module_version": "1.5.0",
          "state": {
            "_dom_classes": [],
            "_model_module": "@jupyter-widgets/controls",
            "_model_module_version": "1.5.0",
            "_model_name": "FloatProgressModel",
            "_view_count": null,
            "_view_module": "@jupyter-widgets/controls",
            "_view_module_version": "1.5.0",
            "_view_name": "ProgressView",
            "bar_style": "success",
            "description": "",
            "description_tooltip": null,
            "layout": "IPY_MODEL_c4e690a9835d4cd6899cd1b24d7b642b",
            "max": 20,
            "min": 0,
            "orientation": "horizontal",
            "style": "IPY_MODEL_8747895143a54d858752753b1aea1a0d",
            "value": 20
          }
        },
        "7e08b0b4d87e4ffa8e69cef68d6d2971": {
          "model_module": "@jupyter-widgets/controls",
          "model_name": "HTMLModel",
          "model_module_version": "1.5.0",
          "state": {
            "_dom_classes": [],
            "_model_module": "@jupyter-widgets/controls",
            "_model_module_version": "1.5.0",
            "_model_name": "HTMLModel",
            "_view_count": null,
            "_view_module": "@jupyter-widgets/controls",
            "_view_module_version": "1.5.0",
            "_view_name": "HTMLView",
            "description": "",
            "description_tooltip": null,
            "layout": "IPY_MODEL_4b053be351f04c46bdc34cda71f084be",
            "placeholder": "​",
            "style": "IPY_MODEL_cdaa63f9a93244f793c4abee93a3ea1e",
            "value": " 20/20 [00:00&lt;00:00, 33.79it/s]"
          }
        },
        "5b71ac90fbfb471bb2699170ddbfae5c": {
          "model_module": "@jupyter-widgets/base",
          "model_name": "LayoutModel",
          "model_module_version": "1.2.0",
          "state": {
            "_model_module": "@jupyter-widgets/base",
            "_model_module_version": "1.2.0",
            "_model_name": "LayoutModel",
            "_view_count": null,
            "_view_module": "@jupyter-widgets/base",
            "_view_module_version": "1.2.0",
            "_view_name": "LayoutView",
            "align_content": null,
            "align_items": null,
            "align_self": null,
            "border": null,
            "bottom": null,
            "display": null,
            "flex": null,
            "flex_flow": null,
            "grid_area": null,
            "grid_auto_columns": null,
            "grid_auto_flow": null,
            "grid_auto_rows": null,
            "grid_column": null,
            "grid_gap": null,
            "grid_row": null,
            "grid_template_areas": null,
            "grid_template_columns": null,
            "grid_template_rows": null,
            "height": null,
            "justify_content": null,
            "justify_items": null,
            "left": null,
            "margin": null,
            "max_height": null,
            "max_width": null,
            "min_height": null,
            "min_width": null,
            "object_fit": null,
            "object_position": null,
            "order": null,
            "overflow": null,
            "overflow_x": null,
            "overflow_y": null,
            "padding": null,
            "right": null,
            "top": null,
            "visibility": null,
            "width": null
          }
        },
        "d233153e32f44922ac72ad2d4e11130b": {
          "model_module": "@jupyter-widgets/base",
          "model_name": "LayoutModel",
          "model_module_version": "1.2.0",
          "state": {
            "_model_module": "@jupyter-widgets/base",
            "_model_module_version": "1.2.0",
            "_model_name": "LayoutModel",
            "_view_count": null,
            "_view_module": "@jupyter-widgets/base",
            "_view_module_version": "1.2.0",
            "_view_name": "LayoutView",
            "align_content": null,
            "align_items": null,
            "align_self": null,
            "border": null,
            "bottom": null,
            "display": null,
            "flex": null,
            "flex_flow": null,
            "grid_area": null,
            "grid_auto_columns": null,
            "grid_auto_flow": null,
            "grid_auto_rows": null,
            "grid_column": null,
            "grid_gap": null,
            "grid_row": null,
            "grid_template_areas": null,
            "grid_template_columns": null,
            "grid_template_rows": null,
            "height": null,
            "justify_content": null,
            "justify_items": null,
            "left": null,
            "margin": null,
            "max_height": null,
            "max_width": null,
            "min_height": null,
            "min_width": null,
            "object_fit": null,
            "object_position": null,
            "order": null,
            "overflow": null,
            "overflow_x": null,
            "overflow_y": null,
            "padding": null,
            "right": null,
            "top": null,
            "visibility": null,
            "width": null
          }
        },
        "6867bd283b0f4c4d9808a8bb4e19baa4": {
          "model_module": "@jupyter-widgets/controls",
          "model_name": "DescriptionStyleModel",
          "model_module_version": "1.5.0",
          "state": {
            "_model_module": "@jupyter-widgets/controls",
            "_model_module_version": "1.5.0",
            "_model_name": "DescriptionStyleModel",
            "_view_count": null,
            "_view_module": "@jupyter-widgets/base",
            "_view_module_version": "1.2.0",
            "_view_name": "StyleView",
            "description_width": ""
          }
        },
        "c4e690a9835d4cd6899cd1b24d7b642b": {
          "model_module": "@jupyter-widgets/base",
          "model_name": "LayoutModel",
          "model_module_version": "1.2.0",
          "state": {
            "_model_module": "@jupyter-widgets/base",
            "_model_module_version": "1.2.0",
            "_model_name": "LayoutModel",
            "_view_count": null,
            "_view_module": "@jupyter-widgets/base",
            "_view_module_version": "1.2.0",
            "_view_name": "LayoutView",
            "align_content": null,
            "align_items": null,
            "align_self": null,
            "border": null,
            "bottom": null,
            "display": null,
            "flex": null,
            "flex_flow": null,
            "grid_area": null,
            "grid_auto_columns": null,
            "grid_auto_flow": null,
            "grid_auto_rows": null,
            "grid_column": null,
            "grid_gap": null,
            "grid_row": null,
            "grid_template_areas": null,
            "grid_template_columns": null,
            "grid_template_rows": null,
            "height": null,
            "justify_content": null,
            "justify_items": null,
            "left": null,
            "margin": null,
            "max_height": null,
            "max_width": null,
            "min_height": null,
            "min_width": null,
            "object_fit": null,
            "object_position": null,
            "order": null,
            "overflow": null,
            "overflow_x": null,
            "overflow_y": null,
            "padding": null,
            "right": null,
            "top": null,
            "visibility": null,
            "width": null
          }
        },
        "8747895143a54d858752753b1aea1a0d": {
          "model_module": "@jupyter-widgets/controls",
          "model_name": "ProgressStyleModel",
          "model_module_version": "1.5.0",
          "state": {
            "_model_module": "@jupyter-widgets/controls",
            "_model_module_version": "1.5.0",
            "_model_name": "ProgressStyleModel",
            "_view_count": null,
            "_view_module": "@jupyter-widgets/base",
            "_view_module_version": "1.2.0",
            "_view_name": "StyleView",
            "bar_color": null,
            "description_width": ""
          }
        },
        "4b053be351f04c46bdc34cda71f084be": {
          "model_module": "@jupyter-widgets/base",
          "model_name": "LayoutModel",
          "model_module_version": "1.2.0",
          "state": {
            "_model_module": "@jupyter-widgets/base",
            "_model_module_version": "1.2.0",
            "_model_name": "LayoutModel",
            "_view_count": null,
            "_view_module": "@jupyter-widgets/base",
            "_view_module_version": "1.2.0",
            "_view_name": "LayoutView",
            "align_content": null,
            "align_items": null,
            "align_self": null,
            "border": null,
            "bottom": null,
            "display": null,
            "flex": null,
            "flex_flow": null,
            "grid_area": null,
            "grid_auto_columns": null,
            "grid_auto_flow": null,
            "grid_auto_rows": null,
            "grid_column": null,
            "grid_gap": null,
            "grid_row": null,
            "grid_template_areas": null,
            "grid_template_columns": null,
            "grid_template_rows": null,
            "height": null,
            "justify_content": null,
            "justify_items": null,
            "left": null,
            "margin": null,
            "max_height": null,
            "max_width": null,
            "min_height": null,
            "min_width": null,
            "object_fit": null,
            "object_position": null,
            "order": null,
            "overflow": null,
            "overflow_x": null,
            "overflow_y": null,
            "padding": null,
            "right": null,
            "top": null,
            "visibility": null,
            "width": null
          }
        },
        "cdaa63f9a93244f793c4abee93a3ea1e": {
          "model_module": "@jupyter-widgets/controls",
          "model_name": "DescriptionStyleModel",
          "model_module_version": "1.5.0",
          "state": {
            "_model_module": "@jupyter-widgets/controls",
            "_model_module_version": "1.5.0",
            "_model_name": "DescriptionStyleModel",
            "_view_count": null,
            "_view_module": "@jupyter-widgets/base",
            "_view_module_version": "1.2.0",
            "_view_name": "StyleView",
            "description_width": ""
          }
        }
      }
    }
  },
  "cells": [
    {
      "cell_type": "code",
      "source": [
        "!pip install implicit scikit-learn pandas openpyxl"
      ],
      "metadata": {
        "id": "80wkf3DZdj2N",
        "colab": {
          "base_uri": "https://localhost:8080/"
        },
        "outputId": "a47c67d2-17ab-4ec9-fc33-99fa5b238c08"
      },
      "execution_count": null,
      "outputs": [
        {
          "output_type": "stream",
          "name": "stdout",
          "text": [
            "Requirement already satisfied: implicit in /usr/local/lib/python3.11/dist-packages (0.7.2)\n",
            "Requirement already satisfied: scikit-learn in /usr/local/lib/python3.11/dist-packages (1.6.1)\n",
            "Requirement already satisfied: pandas in /usr/local/lib/python3.11/dist-packages (2.2.2)\n",
            "Requirement already satisfied: openpyxl in /usr/local/lib/python3.11/dist-packages (3.1.5)\n",
            "Requirement already satisfied: numpy>=1.17.0 in /usr/local/lib/python3.11/dist-packages (from implicit) (1.26.4)\n",
            "Requirement already satisfied: scipy>=0.16 in /usr/local/lib/python3.11/dist-packages (from implicit) (1.13.1)\n",
            "Requirement already satisfied: tqdm>=4.27 in /usr/local/lib/python3.11/dist-packages (from implicit) (4.67.1)\n",
            "Requirement already satisfied: threadpoolctl in /usr/local/lib/python3.11/dist-packages (from implicit) (3.5.0)\n",
            "Requirement already satisfied: joblib>=1.2.0 in /usr/local/lib/python3.11/dist-packages (from scikit-learn) (1.4.2)\n",
            "Requirement already satisfied: python-dateutil>=2.8.2 in /usr/local/lib/python3.11/dist-packages (from pandas) (2.8.2)\n",
            "Requirement already satisfied: pytz>=2020.1 in /usr/local/lib/python3.11/dist-packages (from pandas) (2025.1)\n",
            "Requirement already satisfied: tzdata>=2022.7 in /usr/local/lib/python3.11/dist-packages (from pandas) (2025.1)\n",
            "Requirement already satisfied: et-xmlfile in /usr/local/lib/python3.11/dist-packages (from openpyxl) (2.0.0)\n",
            "Requirement already satisfied: six>=1.5 in /usr/local/lib/python3.11/dist-packages (from python-dateutil>=2.8.2->pandas) (1.17.0)\n"
          ]
        }
      ]
    },
    {
      "cell_type": "code",
      "source": [
        "import pandas as pd\n",
        "import numpy as np\n",
        "from sklearn.feature_extraction.text import TfidfVectorizer\n",
        "from sklearn.preprocessing import StandardScaler\n",
        "from scipy.sparse import csr_matrix\n",
        "import os\n",
        "\n",
        "# SUBIR ARCHIVOS\n",
        "from google.colab import files\n",
        "\n",
        "print(\"Por favor, sube los archivos: Excel con freelancers, texto del cliente y stopwords.\")\n",
        "uploaded = files.upload()\n",
        "\n",
        "# Cargar el archivo Excel\n",
        "excel_filename = [f for f in uploaded.keys() if f.endswith('.xlsx')][0]\n",
        "df_freelancers = pd.read_excel(excel_filename)\n",
        "\n",
        "# Cargar archivo de texto con la respuesta del cliente\n",
        "txt_filename = [f for f in uploaded.keys() if f.endswith('.txt') and \"RespuestaCliente\" in f][0]\n",
        "with open(txt_filename, \"r\", encoding=\"utf-8\") as file:\n",
        "    lines = file.readlines()\n",
        "\n",
        "# Cargar archivo de stopwords\n",
        "stopwords_filename = [f for f in uploaded.keys() if f.endswith('.txt') and \"stopwords\" in f][0]\n",
        "with open(stopwords_filename, \"r\", encoding=\"utf-8\") as file:\n",
        "    stopwords_list = file.read().splitlines()\n",
        "\n",
        "# Verificar la carga de datos\n",
        "print(\"Archivos cargados correctamente.\")\n",
        "print(df_freelancers.head())\n",
        "print(\"Primera línea del archivo de texto:\", lines[0])\n",
        "print(\"Ejemplo de stopwords:\", stopwords_list[:10])"
      ],
      "metadata": {
        "colab": {
          "base_uri": "https://localhost:8080/",
          "height": 475
        },
        "id": "YdC_iVCmeQf9",
        "outputId": "c1919393-9e99-4472-9505-916b8cbccce5"
      },
      "execution_count": null,
      "outputs": [
        {
          "output_type": "stream",
          "name": "stdout",
          "text": [
            "Por favor, sube los archivos: Excel con freelancers, texto del cliente y stopwords.\n"
          ]
        },
        {
          "output_type": "display_data",
          "data": {
            "text/plain": [
              "<IPython.core.display.HTML object>"
            ],
            "text/html": [
              "\n",
              "     <input type=\"file\" id=\"files-019c0f41-a2c2-4212-ae86-d30ebf9ebc95\" name=\"files[]\" multiple disabled\n",
              "        style=\"border:none\" />\n",
              "     <output id=\"result-019c0f41-a2c2-4212-ae86-d30ebf9ebc95\">\n",
              "      Upload widget is only available when the cell has been executed in the\n",
              "      current browser session. Please rerun this cell to enable.\n",
              "      </output>\n",
              "      <script>// Copyright 2017 Google LLC\n",
              "//\n",
              "// Licensed under the Apache License, Version 2.0 (the \"License\");\n",
              "// you may not use this file except in compliance with the License.\n",
              "// You may obtain a copy of the License at\n",
              "//\n",
              "//      http://www.apache.org/licenses/LICENSE-2.0\n",
              "//\n",
              "// Unless required by applicable law or agreed to in writing, software\n",
              "// distributed under the License is distributed on an \"AS IS\" BASIS,\n",
              "// WITHOUT WARRANTIES OR CONDITIONS OF ANY KIND, either express or implied.\n",
              "// See the License for the specific language governing permissions and\n",
              "// limitations under the License.\n",
              "\n",
              "/**\n",
              " * @fileoverview Helpers for google.colab Python module.\n",
              " */\n",
              "(function(scope) {\n",
              "function span(text, styleAttributes = {}) {\n",
              "  const element = document.createElement('span');\n",
              "  element.textContent = text;\n",
              "  for (const key of Object.keys(styleAttributes)) {\n",
              "    element.style[key] = styleAttributes[key];\n",
              "  }\n",
              "  return element;\n",
              "}\n",
              "\n",
              "// Max number of bytes which will be uploaded at a time.\n",
              "const MAX_PAYLOAD_SIZE = 100 * 1024;\n",
              "\n",
              "function _uploadFiles(inputId, outputId) {\n",
              "  const steps = uploadFilesStep(inputId, outputId);\n",
              "  const outputElement = document.getElementById(outputId);\n",
              "  // Cache steps on the outputElement to make it available for the next call\n",
              "  // to uploadFilesContinue from Python.\n",
              "  outputElement.steps = steps;\n",
              "\n",
              "  return _uploadFilesContinue(outputId);\n",
              "}\n",
              "\n",
              "// This is roughly an async generator (not supported in the browser yet),\n",
              "// where there are multiple asynchronous steps and the Python side is going\n",
              "// to poll for completion of each step.\n",
              "// This uses a Promise to block the python side on completion of each step,\n",
              "// then passes the result of the previous step as the input to the next step.\n",
              "function _uploadFilesContinue(outputId) {\n",
              "  const outputElement = document.getElementById(outputId);\n",
              "  const steps = outputElement.steps;\n",
              "\n",
              "  const next = steps.next(outputElement.lastPromiseValue);\n",
              "  return Promise.resolve(next.value.promise).then((value) => {\n",
              "    // Cache the last promise value to make it available to the next\n",
              "    // step of the generator.\n",
              "    outputElement.lastPromiseValue = value;\n",
              "    return next.value.response;\n",
              "  });\n",
              "}\n",
              "\n",
              "/**\n",
              " * Generator function which is called between each async step of the upload\n",
              " * process.\n",
              " * @param {string} inputId Element ID of the input file picker element.\n",
              " * @param {string} outputId Element ID of the output display.\n",
              " * @return {!Iterable<!Object>} Iterable of next steps.\n",
              " */\n",
              "function* uploadFilesStep(inputId, outputId) {\n",
              "  const inputElement = document.getElementById(inputId);\n",
              "  inputElement.disabled = false;\n",
              "\n",
              "  const outputElement = document.getElementById(outputId);\n",
              "  outputElement.innerHTML = '';\n",
              "\n",
              "  const pickedPromise = new Promise((resolve) => {\n",
              "    inputElement.addEventListener('change', (e) => {\n",
              "      resolve(e.target.files);\n",
              "    });\n",
              "  });\n",
              "\n",
              "  const cancel = document.createElement('button');\n",
              "  inputElement.parentElement.appendChild(cancel);\n",
              "  cancel.textContent = 'Cancel upload';\n",
              "  const cancelPromise = new Promise((resolve) => {\n",
              "    cancel.onclick = () => {\n",
              "      resolve(null);\n",
              "    };\n",
              "  });\n",
              "\n",
              "  // Wait for the user to pick the files.\n",
              "  const files = yield {\n",
              "    promise: Promise.race([pickedPromise, cancelPromise]),\n",
              "    response: {\n",
              "      action: 'starting',\n",
              "    }\n",
              "  };\n",
              "\n",
              "  cancel.remove();\n",
              "\n",
              "  // Disable the input element since further picks are not allowed.\n",
              "  inputElement.disabled = true;\n",
              "\n",
              "  if (!files) {\n",
              "    return {\n",
              "      response: {\n",
              "        action: 'complete',\n",
              "      }\n",
              "    };\n",
              "  }\n",
              "\n",
              "  for (const file of files) {\n",
              "    const li = document.createElement('li');\n",
              "    li.append(span(file.name, {fontWeight: 'bold'}));\n",
              "    li.append(span(\n",
              "        `(${file.type || 'n/a'}) - ${file.size} bytes, ` +\n",
              "        `last modified: ${\n",
              "            file.lastModifiedDate ? file.lastModifiedDate.toLocaleDateString() :\n",
              "                                    'n/a'} - `));\n",
              "    const percent = span('0% done');\n",
              "    li.appendChild(percent);\n",
              "\n",
              "    outputElement.appendChild(li);\n",
              "\n",
              "    const fileDataPromise = new Promise((resolve) => {\n",
              "      const reader = new FileReader();\n",
              "      reader.onload = (e) => {\n",
              "        resolve(e.target.result);\n",
              "      };\n",
              "      reader.readAsArrayBuffer(file);\n",
              "    });\n",
              "    // Wait for the data to be ready.\n",
              "    let fileData = yield {\n",
              "      promise: fileDataPromise,\n",
              "      response: {\n",
              "        action: 'continue',\n",
              "      }\n",
              "    };\n",
              "\n",
              "    // Use a chunked sending to avoid message size limits. See b/62115660.\n",
              "    let position = 0;\n",
              "    do {\n",
              "      const length = Math.min(fileData.byteLength - position, MAX_PAYLOAD_SIZE);\n",
              "      const chunk = new Uint8Array(fileData, position, length);\n",
              "      position += length;\n",
              "\n",
              "      const base64 = btoa(String.fromCharCode.apply(null, chunk));\n",
              "      yield {\n",
              "        response: {\n",
              "          action: 'append',\n",
              "          file: file.name,\n",
              "          data: base64,\n",
              "        },\n",
              "      };\n",
              "\n",
              "      let percentDone = fileData.byteLength === 0 ?\n",
              "          100 :\n",
              "          Math.round((position / fileData.byteLength) * 100);\n",
              "      percent.textContent = `${percentDone}% done`;\n",
              "\n",
              "    } while (position < fileData.byteLength);\n",
              "  }\n",
              "\n",
              "  // All done.\n",
              "  yield {\n",
              "    response: {\n",
              "      action: 'complete',\n",
              "    }\n",
              "  };\n",
              "}\n",
              "\n",
              "scope.google = scope.google || {};\n",
              "scope.google.colab = scope.google.colab || {};\n",
              "scope.google.colab._files = {\n",
              "  _uploadFiles,\n",
              "  _uploadFilesContinue,\n",
              "};\n",
              "})(self);\n",
              "</script> "
            ]
          },
          "metadata": {}
        },
        {
          "output_type": "stream",
          "name": "stdout",
          "text": [
            "Saving Freelancers_Limpieza_Sintetico_Realista.xlsx to Freelancers_Limpieza_Sintetico_Realista.xlsx\n",
            "Saving RespuestaCliente1.txt to RespuestaCliente1.txt\n",
            "Saving stopwords.txt to stopwords.txt\n",
            "Archivos cargados correctamente.\n",
            "   PreferedName                                RespuestaFormulario  \\\n",
            "0  Freelancer_1  2,1,1,3,1,1,2,2,2,3,3,3,1,2,3,2,2,3,2,3,2,2,1,2,3   \n",
            "1  Freelancer_2  1,2,1,3,2,2,2,3,2,2,1,1,2,2,1,1,2,2,2,1,1,3,3,1,3   \n",
            "2  Freelancer_3  5,5,4,4,5,4,4,5,4,5,5,5,4,5,5,4,4,5,5,5,4,5,4,5,4   \n",
            "3  Freelancer_4  4,5,3,5,3,5,4,4,3,3,3,3,5,3,3,3,5,5,3,5,3,5,3,3,3   \n",
            "4  Freelancer_5  3,4,3,4,4,2,3,4,2,3,2,3,3,4,3,2,3,3,4,3,4,3,3,3,3   \n",
            "\n",
            "                                              Skills  \n",
            "0  Ad Copy, Blog Writing, Copywriting, Editor, Pr...  \n",
            "1                                                NaN  \n",
            "2  Art Design, Branding, Logo, HTML, Print, UX, G...  \n",
            "3  Blog Writing, Creative Writing, Long Format, S...  \n",
            "4  Node, Docker, React, Javascript, CSS, HTML, We...  \n",
            "Primera línea del archivo de texto: 3,1,2,2,2,3,1,1,1,1,2,1,3,1,3,2,1,1,1,3,3,2,2,3,3\n",
            "\n",
            "Ejemplo de stopwords: [\"nosotros, vosotros, ellos, ellas, me, te, se, nos, os, su, sus, mi, mis, tu, tus, a, ante, bajo, cabe, con, contra, de, desde, durante, en, entre, hacia, hasta, mediante, para, por, según, sin, sobre, tras, versus, vía, porque, ya, pero, aunque, o, u, ser, estar, haber, tener, hacer, decir, ir, ver, dar, saber, querer, poder, deber, necesitar, parecer, muy, poco, bastante, casi, demasiado, nunca, siempre, quizás, tal vez, seguramente, claramente, realmente, totalmente, i, you, he, she, we, they, it, me, him, her, us, them, my, your, his, her, its, our, their, this, that, these, those, which, who, whom, whose, is, are, was, were, be, been, being, have, has, had, do, does, did, can, could, shall, should, will, would, may, might, must, very, too, much, many, most, some, any, few, little, often, always, never, sometimes, usually, about, above, after, before, between, by, for, from, in, into, on, onto, out, over, under, up, with, without, because, while, although, however, therefore, thus, hence, able, ableabout, about, above, abroad, abst, accordance, according, accordingly, across, act, actually, ad, added, adj, adopted, ae, af, affected, affecting, affects, after, afterwards, ag, again, against, ago, ah, ahead, ai, ain't, aint, al, all, allow, allows, almost, alone, along, alongside, already, also, although, always, am, amid, amidst, among, amongst, amoungst, amount, an, and, announce, another, any, anybody, anyhow, anymore, anyone, anything, anyway, anyways, anywhere, ao, apart, apparently, appear, appreciate, appropriate, approximately, aq, ar, are, area, areas, aren, aren't, arent, arise, around, arpa, as, aside, ask, asked, asking, asks, associated, at, au, auth, available, aw, away, awfully, az, b, ba, back, backed, backing, backs, backward, backwards, bb, bd, be, became, because, become, becomes, becoming, been, before, beforehand, began, begin, beginning, beginnings, begins, behind, being, beings, believe, below, beside, besides, best, better, between, beyond, bf, bg, bh, bi, big, bill, billion, biol, bj, bm, bn, bo, both, bottom, br, brief, briefly, bs, bt, but, buy, bv, bw, by, bz, c, c'mon, c's, ca, call, came, can, can't, cannot, cant, caption, case, cases, cause, causes, cc, cd, certain, certainly, cf, cg, ch, changes, ci, ck, cl, clear, clearly, click, cm, cmon, cn, co, co., com, come, comes, computer, con, concerning, consequently, consider, considering, contain, containing, contains, copy, corresponding, could, could've, couldn, couldn't, couldnt, course, cr, cry, cs, cu, currently, cv, cx, cy, cz, d, dare, daren't, darent, date, de, dear, definitely, describe, described, despite, detail, did, didn, didn't, didnt, differ, different, differently, directly, dj, dk, dm, do, does, doesn, doesn't, doesnt, doing, don, don't, done, dont, doubtful, down, downed, downing, downs, downwards, due, during, dz, e, each, early, ec, ed, edu, ee, effect, eg, eh, eight, eighty, either, eleven, else, elsewhere, empty, end, ended, ending, ends, enough, entirely, er, es, especially, et, et-al, etc, even, evenly, ever, evermore, every, everybody, everyone, everything, everywhere, ex, exactly, example, except, f, face, faces, fact, facts, fairly, far, farther, felt, few, fewer, ff, fi, fifteen, fifth, fifty, fify, fill, find, finds, fire, first, five, fix, fj, fk, fm, fo, followed, following, follows, for, forever, former, formerly, forth, forty, forward, found, four, fr, free, from, front, full, fully, further, furthered, furthering, furthermore, furthers, fx, g, ga, gave, gb, gd, ge, general, generally, get, gets, getting, gf, gg, gh, gi, give, given, gives, giving, gl, gm, gmt, gn, go, goes, going, gone, good, goods, got, gotten, gov, gp, gq, gr, great, greater, greatest, greetings, group, grouped, grouping, groups, gs, gt, gu, gw, gy, h, had, hadn't, hadnt, half, happens, hardly, has, hasn, hasn't, hasnt, have, haven, haven't, havent, having, he, he'd, he'll, he's, hed, hell, hello, help, hence, her, here, here's, hereafter, hereby, herein, heres, hereupon, hers, herself, herse”, hes, hi, hid, high, higher, highest, him, himself, himse”, his, hither, hk, hm, hn, home, homepage, hopefully, how, how'd, how'll, how's, howbeit, however, hr, ht, htm, html, http, hu, hundred, i, i'd, i'll, i'm, i've, i.e., id, ie, if, ignored, ii, il, ill, im, immediate, immediately, importance, important, in, inasmuch, inc, inc., indeed, index, indicate, indicated, indicates, information, inner, inside, insofar, instead, int, interest, interested, interesting, interests, into, invention, inward, io, iq, ir, is, isn, isn't, isnt, it, it'd, it'll, it's, itd, itll, its, itself, itse”, ive, j, je, jm, jo, join, jp, just, k, ke, keep, keeps, kept, keys, kg, kh, ki, kind, km, knew, know, known, knows, kp, kr, kw, ky, kz, l, la, large, largely, last, lately, later, latest, latter, latterly, lb, lc, least, length, less, lest, let, let's, lets, li, like, liked, likely, likewise, line, little, lk, ll, long, longer, longest, look, looking, looks, low, lower, lr, ls, lt, ltd, lu, lv, ly, m, ma, made, mainly, make, makes, making, man, many, may, maybe, mayn't, maynt, mc, md, me, mean, means, meantime, meanwhile, member, members, men, merely, mg, mh, might, might've, mightn't, mightnt, mil, mill, million, mine, minus, miss, mk, ml, mm, mn, mo, more, moreover, most, mostly, move, mp, mq, mr, mrs, ms, msie, mt, mu, much, mug, must, must've, mustn't, mustnt, mv, mw, mx, my, myself, myse”, mz, n, na, name, namely, nay, nc, nd, ne, near, nearly, necessarily, necessary, need, needed, needing, needn't, neednt, needs, neither, net, netscape, never, neverf, neverless, nevertheless, new, newer, newest, next, nf, ng, ni, nine, ninety, nl, no, no-one, nobody, non, none, nonetheless, noone, nor, normally, nos, not, noted, nothing, notwithstanding, novel, now, nowhere, np, nr, nu, null, number, numbers, nz, o, obtain, obtained, obviously, of, off, often, oh, ok, okay, old, older, oldest, om, omitted, on, once, one, one's, ones, only, onto, open, opened, opening, opens, opposite, or, ord, order, ordered, ordering, orders, org, other, others, otherwise, ought, oughtn't, oughtnt, our, ours, ourselves, out, outside, over, overall, owing, own, p, pa, page, pages, part, parted, particular, particularly, parting, parts, past, pe, per, perhaps, pf, pg, ph, pk, pl, place, placed, places, please, plus, pm, pmid, pn, point, pointed, pointing, points, poorly, possible, possibly, potentially, pp, pr, predominantly, present, presented, presenting, presents, presumably, previously, primarily, probably, problem, problems, promptly, proud, provided, provides, pt, put, puts, pw, py, q, qa, que, quickly, quite, qv, r, ran, rather, rd, re, readily, really, reasonably, recent, recently, ref, refs, regarding, regardless, regards, related, relatively, research, reserved, respectively, resulted, resulting, results, right, ring, ro, room, rooms, round, ru, run, rw, s, sa, said, same, saw, say, saying, says, sb, sc, sd, se, sec, second, secondly, seconds, section, see, seeing, seem, seemed, seeming, seems, seen, sees, self, selves, sensible, sent, serious, seriously, seven, seventy, several, sg, sh, shall, shan't, shant, she, she'd, she'll, she's, shed, shell, shes, should, should've, shouldn, shouldn't, shouldnt, show, showed, showing, shown, showns, shows, si, side, sides, significant, significantly, similar, similarly, since, sincere, site, six, sixty, sj, sk, sl, slightly, sm, small, smaller, smallest, sn, so, some, somebody, someday, somehow, someone, somethan, something, sometime, sometimes, somewhat, somewhere, soon, sorry, specifically, specified, specify, specifying, sr, st, state, states, still, stop, strongly, su, sub, substantially, successfully, such, sufficiently, suggest, sup, sure, sv, sy, system, sz, t, t's, take, taken, taking, tc, td, tell, ten, tends, test, text, tf, tg, th, than, thank, thanks, thanx, that, that'll, that's, that've, thatll, thats, thatve, the, their, theirs, them, themselves, then, thence, there, there'd, there'll, there're, there's, there've, thereafter, thereby, thered, therefore, therein, therell, thereof, therere, theres, thereto, thereupon, thereve, these, they, they'd, they'll, they're, they've, theyd, theyll, theyre, theyve, thick, thin, thing, things, think, thinks, third, thirty, this, thorough, thoroughly, those, thou, though, thoughh, thought, thoughts, thousand, three, throug, through, throughout, thru, thus, til, till, tip, tis, tj, tk, tm, tn, to, today, together, too, took, top, toward, towards, tp, tr, tried, tries, trillion, truly, try, trying, ts, tt, turn, turned, turning, turns, tv, tw, twas, twelve, twenty, twice, two, tz, u, ua, ug, uk, um, un, under, underneath, undoing, unfortunately, unless, unlike, unlikely, until, unto, up, upon, ups, upwards, us, use, used, useful, usefully, usefulness, uses, using, usually, uucp, uy, uz, v, va, value, various, vc, ve, versus, very, vg, vi, via, viz, vn, vol, vols, vs, vu, w, want, wanted, wanting, wants, was, wasn, wasn't, wasnt, way, ways, we, we'd, we'll, we're, we've, wed, welcome, well, wells, went, were, weren, weren't, werent, weve, wf, what, what'd, what'll, what's, what've, whatever, whatll, whats, whatve, when, when'd, when'll, when's, whence, whenever, where, where'd, where'll, where's, whereafter, whereas, whereby, wherein, wheres, whereupon, wherever, whether, which, whichever, while, whilst, whim, whither, who, who'd, who'll, who's, whod, whoever, whole, wholl, whom, whomever, whos, whose, why, why'd, why'll, why's, widely, width, will, willing, wish, with, within, without, won, won't, wonder, wont, words, work, worked, working, works, world, would, would've, wouldn, wouldn't, wouldnt, ws, www, x, y, ye, year, years, yes, yet, you, you'd, you'll, you're, you've, youd, youll, young, younger, youngest, your, youre, yours, yourself, yourselves, youve, yt, yu, z, za, zero, zm, zr, de, la, que, el, en, y, a, los, del, se, las, por, un, para, con, no, una, su, al, lo, como, más, pero, sus, le, ya, o, este, sí, porque, esta, entre, cuando, muy, sin, sobre, también, me, hasta, hay, donde, quien, desde, todo, nos, durante, todos, uno, les, ni, contra, otros, ese, eso, ante, ellos, e, esto, mí, antes, algunos, qué, unos, yo, otro, otras, otra, él, tanto, esa, estos, mucho, quienes, nada, muchos, cual, poco, ella, estar, estas, algunas, algo, nosotros, mi, mis, tú, te, ti, tu, tus, ellas, nosotras, vosotros, vosotras, os, mío, mía, míos, mías, tuyo, tuya, tuyos, tuyas, suyo, suya, suyos, suyas, nuestro, nuestra, nuestros, nuestras, vuestro, vuestra, vuestros, vuestras, esos, esas, estoy, estás, está, estamos, estáis, están, esté, estés, estemos, estéis, estén, estaré, estarás, estará, estaremos, estaréis, estarán, estaría, estarías, estaríamos, estaríais, estarían, estaba, estabas, estábamos, estabais, estaban, estuve, estuviste, estuvo, estuvimos, estuvisteis, estuvieron, estuviera, estuvieras, estuviéramos, estuvierais, estuvieran, estuviese, estuvieses, estuviésemos, estuvieseis, estuviesen, estando, estado, estada, estados, estadas, estad, estad, he, has, ha, hemos, habéis, han, haya, hayas, hayamos, hayáis, hayan, habré, habrás, habrá, habremos, habréis, habrán, habría, habrías, habríamos, habríais, habrían, había, habías, habíamos, habíais, habían, hube, hubiste, hubo, hubimos, hubisteis, hubieron, hubiera, hubieras, hubiéramos, hubierais, hubieran, hubiese, hubieses, hubiésemos, hubieseis, hubiesen, habiendo, habido, habida, habidos, habidas, soy, eres, es, somos, sois, son, sea, seas, seamos, seáis, sean, seré, serás, será, seremos, seréis, serán, sería, serías, seríamos, seríais, serían, era, eras, éramos, erais, eran, fui, fuiste, fue, fuimos, fuisteis, fueron, fuera, fueras, fuéramos, fuerais, fueran, fuese, fueses, fuésemos, fueseis, fuesen, sintiendo, sentido, sentida, sentidos, sentidas, siente, sentid, tengo, tienes, tiene, tenemos, tenéis, tienen, tenga, tengas, tengamos, tengáis, tengan, tendré, tendrás, tendrá, tendremos, tendréis, tendrán, tendría, tendrías, tendríamos, tendríais, tendrían, tenía, tenías, teníamos, teníais, tenían, tuve, tuviste, tuvo, tuvimos, tuvisteis, tuvieron, tuviera, tuvieras, tuviéramos, tuvierais, tuvieran, tuviese, tuvieses, tuviésemos, tuvieseis, tuviesen, teniendo, tenido, tenida, tenidos, tenidas, tened, adoptar, afectado, afectando, afecta, anunciar, aparecer, apreciar, asociado, área, áreas, surgir, arpa, preguntar, pregunta, asociado, disponible, respaldado, respaldando, respaldos, convertirse, conteniendo, copiar, correspondiente, curso, llorar, describir, diferir, temprano, efecto, ejemplo, ex, interés, interesado, interesante, intereses, invención, unir, mantener, mantenido, nombre, indicar, indicado, indica, información, interna, interés, línea, longitud, mencionar, miembro, miembros, mover, nombre, notado, notar, número, obtener, obtenido, orden, ordenado, ordenando, órdenes, señalar, señalando, puntos, posible, potencialmente, predominantemente, proporcionar, proporciona, proporcionar, proporcionado, proporcionar, proporciona, proporcionar, presumiblemente, prevenir, probablemente, problema, problemas, investigación, reservado, resultados, saludos, sitio, sistema, sugerir, texto\", '', '']\n"
          ]
        }
      ]
    },
    {
      "cell_type": "code",
      "execution_count": null,
      "metadata": {
        "id": "Y4ncsyJPdet9",
        "colab": {
          "base_uri": "https://localhost:8080/"
        },
        "outputId": "ca8c6897-aae1-4537-eb0c-a75ced5dceec"
      },
      "outputs": [
        {
          "output_type": "stream",
          "name": "stdout",
          "text": [
            "Transformación de datos completada. Lista para Implicit.\n"
          ]
        },
        {
          "output_type": "stream",
          "name": "stderr",
          "text": [
            "/usr/local/lib/python3.11/dist-packages/sklearn/feature_extraction/text.py:402: UserWarning: Your stop_words may be inconsistent with your preprocessing. Tokenizing the stop words generated tokens ['able', 'ableabout', 'about', 'above', 'abroad', 'abst', 'accordance', 'according', 'accordingly', 'across', 'act', 'actually', 'ad', 'added', 'adj', 'adoptar', 'adopted', 'ae', 'af', 'afecta', 'afectado', 'afectando', 'affected', 'affecting', 'affects', 'after', 'afterwards', 'ag', 'again', 'against', 'ago', 'ah', 'ahead', 'ai', 'ain', 'aint', 'al', 'algo', 'algunas', 'algunos', 'all', 'allow', 'allows', 'almost', 'alone', 'along', 'alongside', 'already', 'also', 'although', 'always', 'am', 'amid', 'amidst', 'among', 'amongst', 'amoungst', 'amount', 'an', 'and', 'announce', 'another', 'ante', 'antes', 'anunciar', 'any', 'anybody', 'anyhow', 'anymore', 'anyone', 'anything', 'anyway', 'anyways', 'anywhere', 'ao', 'aparecer', 'apart', 'apparently', 'appear', 'appreciate', 'appropriate', 'approximately', 'apreciar', 'aq', 'ar', 'are', 'area', 'areas', 'aren', 'arent', 'arise', 'around', 'arpa', 'as', 'aside', 'ask', 'asked', 'asking', 'asks', 'asociado', 'associated', 'at', 'au', 'aunque', 'auth', 'available', 'aw', 'away', 'awfully', 'az', 'ba', 'back', 'backed', 'backing', 'backs', 'backward', 'backwards', 'bajo', 'bastante', 'bb', 'bd', 'be', 'became', 'because', 'become', 'becomes', 'becoming', 'been', 'before', 'beforehand', 'began', 'begin', 'beginning', 'beginnings', 'begins', 'behind', 'being', 'beings', 'believe', 'below', 'beside', 'besides', 'best', 'better', 'between', 'beyond', 'bf', 'bg', 'bh', 'bi', 'big', 'bill', 'billion', 'biol', 'bj', 'bm', 'bn', 'bo', 'both', 'bottom', 'br', 'brief', 'briefly', 'bs', 'bt', 'but', 'buy', 'bv', 'bw', 'by', 'bz', 'ca', 'cabe', 'call', 'came', 'can', 'cannot', 'cant', 'caption', 'case', 'cases', 'casi', 'cause', 'causes', 'cc', 'cd', 'certain', 'certainly', 'cf', 'cg', 'ch', 'changes', 'ci', 'ck', 'cl', 'claramente', 'clear', 'clearly', 'click', 'cm', 'cmon', 'cn', 'co', 'com', 'come', 'comes', 'como', 'computer', 'con', 'concerning', 'consequently', 'consider', 'considering', 'contain', 'containing', 'contains', 'conteniendo', 'contra', 'convertirse', 'copiar', 'copy', 'correspondiente', 'corresponding', 'could', 'couldn', 'couldnt', 'course', 'cr', 'cry', 'cs', 'cu', 'cual', 'cuando', 'currently', 'curso', 'cv', 'cx', 'cy', 'cz', 'dar', 'dare', 'daren', 'darent', 'date', 'de', 'dear', 'deber', 'decir', 'definitely', 'del', 'demasiado', 'describe', 'described', 'describir', 'desde', 'despite', 'detail', 'did', 'didn', 'didnt', 'diferir', 'differ', 'different', 'differently', 'directly', 'disponible', 'dj', 'dk', 'dm', 'do', 'does', 'doesn', 'doesnt', 'doing', 'don', 'donde', 'done', 'dont', 'doubtful', 'down', 'downed', 'downing', 'downs', 'downwards', 'due', 'durante', 'during', 'dz', 'each', 'early', 'ec', 'ed', 'edu', 'ee', 'efecto', 'effect', 'eg', 'eh', 'eight', 'eighty', 'either', 'ejemplo', 'el', 'eleven', 'ella', 'ellas', 'ellos', 'else', 'elsewhere', 'empty', 'en', 'end', 'ended', 'ending', 'ends', 'enough', 'entirely', 'entre', 'er', 'era', 'erais', 'eran', 'eras', 'eres', 'es', 'esa', 'esas', 'ese', 'eso', 'esos', 'especially', 'esta', 'estaba', 'estabais', 'estaban', 'estabas', 'estad', 'estada', 'estadas', 'estado', 'estados', 'estamos', 'estando', 'estar', 'estaremos', 'estará', 'estarán', 'estarás', 'estaré', 'estaréis', 'estaría', 'estaríais', 'estaríamos', 'estarían', 'estarías', 'estas', 'este', 'estemos', 'esto', 'estos', 'estoy', 'estuve', 'estuviera', 'estuvierais', 'estuvieran', 'estuvieras', 'estuvieron', 'estuviese', 'estuvieseis', 'estuviesen', 'estuvieses', 'estuvimos', 'estuviste', 'estuvisteis', 'estuviéramos', 'estuviésemos', 'estuvo', 'está', 'estábamos', 'estáis', 'están', 'estás', 'esté', 'estéis', 'estén', 'estés', 'et', 'etc', 'even', 'evenly', 'ever', 'evermore', 'every', 'everybody', 'everyone', 'everything', 'everywhere', 'ex', 'exactly', 'example', 'except', 'face', 'faces', 'fact', 'facts', 'fairly', 'far', 'farther', 'felt', 'few', 'fewer', 'ff', 'fi', 'fifteen', 'fifth', 'fifty', 'fify', 'fill', 'find', 'finds', 'fire', 'first', 'five', 'fix', 'fj', 'fk', 'fm', 'fo', 'followed', 'following', 'follows', 'for', 'forever', 'former', 'formerly', 'forth', 'forty', 'forward', 'found', 'four', 'fr', 'free', 'from', 'front', 'fue', 'fuera', 'fuerais', 'fueran', 'fueras', 'fueron', 'fuese', 'fueseis', 'fuesen', 'fueses', 'fui', 'fuimos', 'fuiste', 'fuisteis', 'full', 'fully', 'further', 'furthered', 'furthering', 'furthermore', 'furthers', 'fuéramos', 'fuésemos', 'fx', 'ga', 'gave', 'gb', 'gd', 'ge', 'general', 'generally', 'get', 'gets', 'getting', 'gf', 'gg', 'gh', 'gi', 'give', 'given', 'gives', 'giving', 'gl', 'gm', 'gmt', 'gn', 'go', 'goes', 'going', 'gone', 'good', 'goods', 'got', 'gotten', 'gov', 'gp', 'gq', 'gr', 'great', 'greater', 'greatest', 'greetings', 'group', 'grouped', 'grouping', 'groups', 'gs', 'gt', 'gu', 'gw', 'gy', 'ha', 'haber', 'habida', 'habidas', 'habido', 'habidos', 'habiendo', 'habremos', 'habrá', 'habrán', 'habrás', 'habré', 'habréis', 'habría', 'habríais', 'habríamos', 'habrían', 'habrías', 'habéis', 'había', 'habíais', 'habíamos', 'habían', 'habías', 'hacer', 'hacia', 'had', 'hadn', 'hadnt', 'half', 'han', 'happens', 'hardly', 'has', 'hasn', 'hasnt', 'hasta', 'have', 'haven', 'havent', 'having', 'hay', 'haya', 'hayamos', 'hayan', 'hayas', 'hayáis', 'he', 'hed', 'hell', 'hello', 'help', 'hemos', 'hence', 'her', 'here', 'hereafter', 'hereby', 'herein', 'heres', 'hereupon', 'hers', 'herse', 'herself', 'hes', 'hi', 'hid', 'high', 'higher', 'highest', 'him', 'himse', 'himself', 'his', 'hither', 'hk', 'hm', 'hn', 'home', 'homepage', 'hopefully', 'how', 'howbeit', 'however', 'hr', 'ht', 'htm', 'html', 'http', 'hu', 'hube', 'hubiera', 'hubierais', 'hubieran', 'hubieras', 'hubieron', 'hubiese', 'hubieseis', 'hubiesen', 'hubieses', 'hubimos', 'hubiste', 'hubisteis', 'hubiéramos', 'hubiésemos', 'hubo', 'hundred', 'id', 'ie', 'if', 'ignored', 'ii', 'il', 'ill', 'im', 'immediate', 'immediately', 'importance', 'important', 'in', 'inasmuch', 'inc', 'indeed', 'index', 'indica', 'indicado', 'indicar', 'indicate', 'indicated', 'indicates', 'información', 'information', 'inner', 'inside', 'insofar', 'instead', 'int', 'interesado', 'interesante', 'intereses', 'interest', 'interested', 'interesting', 'interests', 'interna', 'interés', 'into', 'invención', 'invention', 'investigación', 'inward', 'io', 'iq', 'ir', 'is', 'isn', 'isnt', 'it', 'itd', 'itll', 'its', 'itse', 'itself', 'ive', 'je', 'jm', 'jo', 'join', 'jp', 'just', 'ke', 'keep', 'keeps', 'kept', 'keys', 'kg', 'kh', 'ki', 'kind', 'km', 'knew', 'know', 'known', 'knows', 'kp', 'kr', 'kw', 'ky', 'kz', 'la', 'large', 'largely', 'las', 'last', 'lately', 'later', 'latest', 'latter', 'latterly', 'lb', 'lc', 'le', 'least', 'length', 'les', 'less', 'lest', 'let', 'lets', 'li', 'like', 'liked', 'likely', 'likewise', 'line', 'little', 'lk', 'll', 'llorar', 'lo', 'long', 'longer', 'longest', 'longitud', 'look', 'looking', 'looks', 'los', 'low', 'lower', 'lr', 'ls', 'lt', 'ltd', 'lu', 'lv', 'ly', 'línea', 'ma', 'made', 'mainly', 'make', 'makes', 'making', 'man', 'mantener', 'mantenido', 'many', 'may', 'maybe', 'mayn', 'maynt', 'mc', 'md', 'me', 'mean', 'means', 'meantime', 'meanwhile', 'mediante', 'member', 'members', 'men', 'mencionar', 'merely', 'mg', 'mh', 'mi', 'miembro', 'miembros', 'might', 'mightn', 'mightnt', 'mil', 'mill', 'million', 'mine', 'minus', 'mis', 'miss', 'mk', 'ml', 'mm', 'mn', 'mo', 'mon', 'more', 'moreover', 'most', 'mostly', 'move', 'mover', 'mp', 'mq', 'mr', 'mrs', 'ms', 'msie', 'mt', 'mu', 'much', 'mucho', 'muchos', 'mug', 'must', 'mustn', 'mustnt', 'muy', 'mv', 'mw', 'mx', 'my', 'myse', 'myself', 'mz', 'más', 'mí', 'mía', 'mías', 'mío', 'míos', 'na', 'nada', 'name', 'namely', 'nay', 'nc', 'nd', 'ne', 'near', 'nearly', 'necesitar', 'necessarily', 'necessary', 'need', 'needed', 'needing', 'needn', 'neednt', 'needs', 'neither', 'net', 'netscape', 'never', 'neverf', 'neverless', 'nevertheless', 'new', 'newer', 'newest', 'next', 'nf', 'ng', 'ni', 'nine', 'ninety', 'nl', 'no', 'nobody', 'nombre', 'non', 'none', 'nonetheless', 'noone', 'nor', 'normally', 'nos', 'nosotras', 'nosotros', 'not', 'notado', 'notar', 'noted', 'nothing', 'notwithstanding', 'novel', 'now', 'nowhere', 'np', 'nr', 'nu', 'nuestra', 'nuestras', 'nuestro', 'nuestros', 'null', 'number', 'numbers', 'nunca', 'nz', 'número', 'obtain', 'obtained', 'obtener', 'obtenido', 'obviously', 'of', 'off', 'often', 'oh', 'ok', 'okay', 'old', 'older', 'oldest', 'om', 'omitted', 'on', 'once', 'one', 'ones', 'only', 'onto', 'open', 'opened', 'opening', 'opens', 'opposite', 'or', 'ord', 'orden', 'ordenado', 'ordenando', 'order', 'ordered', 'ordering', 'orders', 'org', 'os', 'other', 'others', 'otherwise', 'otra', 'otras', 'otro', 'otros', 'ought', 'oughtn', 'oughtnt', 'our', 'ours', 'ourselves', 'out', 'outside', 'over', 'overall', 'owing', 'own', 'pa', 'page', 'pages', 'para', 'parecer', 'part', 'parted', 'particular', 'particularly', 'parting', 'parts', 'past', 'pe', 'per', 'perhaps', 'pero', 'pf', 'pg', 'ph', 'pk', 'pl', 'place', 'placed', 'places', 'please', 'plus', 'pm', 'pmid', 'pn', 'poco', 'poder', 'point', 'pointed', 'pointing', 'points', 'poorly', 'por', 'porque', 'posible', 'possible', 'possibly', 'potencialmente', 'potentially', 'pp', 'pr', 'predominantemente', 'predominantly', 'pregunta', 'preguntar', 'present', 'presented', 'presenting', 'presents', 'presumably', 'presumiblemente', 'prevenir', 'previously', 'primarily', 'probablemente', 'probably', 'problem', 'problema', 'problemas', 'problems', 'promptly', 'proporciona', 'proporcionado', 'proporcionar', 'proud', 'provided', 'provides', 'pt', 'puntos', 'put', 'puts', 'pw', 'py', 'qa', 'que', 'querer', 'quickly', 'quien', 'quienes', 'quite', 'quizás', 'qué', 'qv', 'ran', 'rather', 'rd', 're', 'readily', 'really', 'realmente', 'reasonably', 'recent', 'recently', 'ref', 'refs', 'regarding', 'regardless', 'regards', 'related', 'relatively', 'research', 'reservado', 'reserved', 'respaldado', 'respaldando', 'respaldos', 'respectively', 'resultados', 'resulted', 'resulting', 'results', 'right', 'ring', 'ro', 'room', 'rooms', 'round', 'ru', 'run', 'rw', 'sa', 'saber', 'said', 'saludos', 'same', 'saw', 'say', 'saying', 'says', 'sb', 'sc', 'sd', 'se', 'sea', 'seamos', 'sean', 'seas', 'sec', 'second', 'secondly', 'seconds', 'section', 'see', 'seeing', 'seem', 'seemed', 'seeming', 'seems', 'seen', 'sees', 'seguramente', 'según', 'self', 'selves', 'sensible', 'sent', 'sentid', 'sentida', 'sentidas', 'sentido', 'sentidos', 'ser', 'seremos', 'serious', 'seriously', 'será', 'serán', 'serás', 'seré', 'seréis', 'sería', 'seríais', 'seríamos', 'serían', 'serías', 'seven', 'seventy', 'several', 'seáis', 'señalando', 'señalar', 'sg', 'sh', 'shall', 'shan', 'shant', 'she', 'shed', 'shell', 'shes', 'should', 'shouldn', 'shouldnt', 'show', 'showed', 'showing', 'shown', 'showns', 'shows', 'si', 'side', 'sides', 'siempre', 'siente', 'significant', 'significantly', 'similar', 'similarly', 'sin', 'since', 'sincere', 'sintiendo', 'sistema', 'site', 'sitio', 'six', 'sixty', 'sj', 'sk', 'sl', 'slightly', 'sm', 'small', 'smaller', 'smallest', 'sn', 'so', 'sobre', 'sois', 'some', 'somebody', 'someday', 'somehow', 'someone', 'somethan', 'something', 'sometime', 'sometimes', 'somewhat', 'somewhere', 'somos', 'son', 'soon', 'sorry', 'soy', 'specifically', 'specified', 'specify', 'specifying', 'sr', 'st', 'state', 'states', 'still', 'stop', 'strongly', 'su', 'sub', 'substantially', 'successfully', 'such', 'sufficiently', 'sugerir', 'suggest', 'sup', 'sure', 'surgir', 'sus', 'suya', 'suyas', 'suyo', 'suyos', 'sv', 'sy', 'system', 'sz', 'sí', 'take', 'taken', 'taking', 'tal', 'también', 'tanto', 'tc', 'td', 'te', 'tell', 'temprano', 'ten', 'tendremos', 'tendrá', 'tendrán', 'tendrás', 'tendré', 'tendréis', 'tendría', 'tendríais', 'tendríamos', 'tendrían', 'tendrías', 'tends', 'tened', 'tenemos', 'tener', 'tenga', 'tengamos', 'tengan', 'tengas', 'tengo', 'tengáis', 'tenida', 'tenidas', 'tenido', 'tenidos', 'teniendo', 'tenéis', 'tenía', 'teníais', 'teníamos', 'tenían', 'tenías', 'test', 'text', 'texto', 'tf', 'tg', 'th', 'than', 'thank', 'thanks', 'thanx', 'that', 'thatll', 'thats', 'thatve', 'the', 'their', 'theirs', 'them', 'themselves', 'then', 'thence', 'there', 'thereafter', 'thereby', 'thered', 'therefore', 'therein', 'therell', 'thereof', 'therere', 'theres', 'thereto', 'thereupon', 'thereve', 'these', 'they', 'theyd', 'theyll', 'theyre', 'theyve', 'thick', 'thin', 'thing', 'things', 'think', 'thinks', 'third', 'thirty', 'this', 'thorough', 'thoroughly', 'those', 'thou', 'though', 'thoughh', 'thought', 'thoughts', 'thousand', 'three', 'throug', 'through', 'throughout', 'thru', 'thus', 'ti', 'tiene', 'tienen', 'tienes', 'til', 'till', 'tip', 'tis', 'tj', 'tk', 'tm', 'tn', 'to', 'today', 'todo', 'todos', 'together', 'too', 'took', 'top', 'totalmente', 'toward', 'towards', 'tp', 'tr', 'tras', 'tried', 'tries', 'trillion', 'truly', 'try', 'trying', 'ts', 'tt', 'tu', 'turn', 'turned', 'turning', 'turns', 'tus', 'tuve', 'tuviera', 'tuvierais', 'tuvieran', 'tuvieras', 'tuvieron', 'tuviese', 'tuvieseis', 'tuviesen', 'tuvieses', 'tuvimos', 'tuviste', 'tuvisteis', 'tuviéramos', 'tuviésemos', 'tuvo', 'tuya', 'tuyas', 'tuyo', 'tuyos', 'tv', 'tw', 'twas', 'twelve', 'twenty', 'twice', 'two', 'tz', 'tú', 'ua', 'ug', 'uk', 'um', 'un', 'una', 'under', 'underneath', 'undoing', 'unfortunately', 'unir', 'unless', 'unlike', 'unlikely', 'uno', 'unos', 'until', 'unto', 'up', 'upon', 'ups', 'upwards', 'us', 'use', 'used', 'useful', 'usefully', 'usefulness', 'uses', 'using', 'usually', 'uucp', 'uy', 'uz', 'va', 'value', 'various', 'vc', 've', 'ver', 'versus', 'very', 'vez', 'vg', 'vi', 'via', 'viz', 'vn', 'vol', 'vols', 'vosotras', 'vosotros', 'vs', 'vu', 'vuestra', 'vuestras', 'vuestro', 'vuestros', 'vía', 'want', 'wanted', 'wanting', 'wants', 'was', 'wasn', 'wasnt', 'way', 'ways', 'we', 'wed', 'welcome', 'well', 'wells', 'went', 'were', 'weren', 'werent', 'weve', 'wf', 'what', 'whatever', 'whatll', 'whats', 'whatve', 'when', 'whence', 'whenever', 'where', 'whereafter', 'whereas', 'whereby', 'wherein', 'wheres', 'whereupon', 'wherever', 'whether', 'which', 'whichever', 'while', 'whilst', 'whim', 'whither', 'who', 'whod', 'whoever', 'whole', 'wholl', 'whom', 'whomever', 'whos', 'whose', 'why', 'widely', 'width', 'will', 'willing', 'wish', 'with', 'within', 'without', 'won', 'wonder', 'wont', 'words', 'work', 'worked', 'working', 'works', 'world', 'would', 'wouldn', 'wouldnt', 'ws', 'www', 'ya', 'ye', 'year', 'years', 'yes', 'yet', 'yo', 'you', 'youd', 'youll', 'young', 'younger', 'youngest', 'your', 'youre', 'yours', 'yourself', 'yourselves', 'youve', 'yt', 'yu', 'za', 'zero', 'zm', 'zr', 'área', 'áreas', 'él', 'éramos', 'órdenes'] not in stop_words.\n",
            "  warnings.warn(\n"
          ]
        }
      ],
      "source": [
        "# Renombrar columnas para consistencia\n",
        "df_freelancers.rename(columns={'PreferedName': 'Freelancer',\n",
        "                               'RespuestaFormulario': 'Formulario',\n",
        "                               'Skills': 'Habilidades'}, inplace=True)\n",
        "\n",
        "# Convertir respuestas del formulario a listas numéricas\n",
        "df_freelancers['Formulario'] = df_freelancers['Formulario'].apply(\n",
        "    lambda x: np.array(list(map(int, x.split(',')))) if isinstance(x, str) else np.zeros(25))\n",
        "\n",
        "# Convertir habilidades en listas de palabras clave\n",
        "df_freelancers['Habilidades'] = df_freelancers['Habilidades'].apply(\n",
        "    lambda x: x.lower().split(', ') if isinstance(x, str) else [])\n",
        "\n",
        "# Extraer respuestas del formulario del cliente (primera línea)\n",
        "cliente_formulario = np.array(list(map(int, lines[0].strip().split(','))))\n",
        "\n",
        "# Extraer texto del cliente (resto del archivo)\n",
        "cliente_texto = \" \".join(lines[1:]).strip()\n",
        "\n",
        "# Vectorizar habilidades usando TF-IDF con stopwords personalizadas\n",
        "vectorizer = TfidfVectorizer(stop_words=stopwords_list)\n",
        "all_skills = [\" \".join(skills) for skills in df_freelancers['Habilidades']]\n",
        "skills_matrix = vectorizer.fit_transform(all_skills)\n",
        "\n",
        "# Vectorizar el texto del cliente con stopwords eliminadas\n",
        "cliente_texto_vectorizado = vectorizer.transform([cliente_texto])\n",
        "\n",
        "# Normalizar los vectores del formulario (freelancers y cliente)\n",
        "scaler = StandardScaler()\n",
        "formulario_matrix = np.vstack(df_freelancers['Formulario'].values)\n",
        "formulario_matrix = scaler.fit_transform(formulario_matrix)\n",
        "cliente_formulario = scaler.transform(cliente_formulario.reshape(1, -1))\n",
        "\n",
        "# Unificar espacio vectorial (concatenar respuestas del formulario + habilidades)\n",
        "freelancer_vectors = np.hstack((formulario_matrix, skills_matrix.toarray()))\n",
        "cliente_vector = np.hstack((cliente_formulario, cliente_texto_vectorizado.toarray()))\n",
        "\n",
        "# Convertir a matriz dispersa para Implicit\n",
        "freelancer_vectors_sparse = csr_matrix(freelancer_vectors)\n",
        "cliente_vector_sparse = csr_matrix(cliente_vector)\n",
        "\n",
        "print(\"Transformación de datos completada. Lista para Implicit.\")"
      ]
    },
    {
      "cell_type": "code",
      "source": [
        "import scipy.sparse as sparse\n",
        "\n",
        "# Crear una matriz dispersa (usuario-item) con los datos de los freelancers\n",
        "freelancer_matrix = sparse.csr_matrix(freelancer_vectors)\n",
        "\n",
        "# Convertir el vector del cliente a una matriz dispersa\n",
        "cliente_matrix = sparse.csr_matrix(cliente_vector.reshape(1, -1))\n",
        "\n",
        "print(\"Matrices dispersas creadas correctamente para Implicit.\")\n"
      ],
      "metadata": {
        "colab": {
          "base_uri": "https://localhost:8080/"
        },
        "id": "mMOu65UwebOc",
        "outputId": "df0cc241-59ec-42af-d9a9-212860c5fe59"
      },
      "execution_count": null,
      "outputs": [
        {
          "output_type": "stream",
          "name": "stdout",
          "text": [
            "Matrices dispersas creadas correctamente para Implicit.\n"
          ]
        }
      ]
    },
    {
      "cell_type": "code",
      "source": [
        "import implicit\n",
        "\n",
        "# Convertir la matriz freelancer_vectors a formato disperso para Implicit\n",
        "freelancer_matrix = sparse.csr_matrix(freelancer_vectors)\n",
        "\n",
        "# Configurar y entrenar el modelo ALS\n",
        "model = implicit.als.AlternatingLeastSquares(factors=100, regularization=0.1, iterations=20)\n",
        "model.fit(freelancer_matrix)\n",
        "\n",
        "print(\"Modelo ALS entrenado con éxito.\")\n",
        "\n"
      ],
      "metadata": {
        "colab": {
          "base_uri": "https://localhost:8080/",
          "height": 66,
          "referenced_widgets": [
            "ccfceeedc6a846c390cd535efe41fdfa",
            "be0c393fc6bc47b18ea5f20e14247b71",
            "5803345eda61403fa58f495b0ba0a76e",
            "7e08b0b4d87e4ffa8e69cef68d6d2971",
            "5b71ac90fbfb471bb2699170ddbfae5c",
            "d233153e32f44922ac72ad2d4e11130b",
            "6867bd283b0f4c4d9808a8bb4e19baa4",
            "c4e690a9835d4cd6899cd1b24d7b642b",
            "8747895143a54d858752753b1aea1a0d",
            "4b053be351f04c46bdc34cda71f084be",
            "cdaa63f9a93244f793c4abee93a3ea1e"
          ]
        },
        "id": "RaHhm4piebgF",
        "outputId": "492a2cdf-d004-4385-c3db-dacb151e886b"
      },
      "execution_count": null,
      "outputs": [
        {
          "output_type": "display_data",
          "data": {
            "text/plain": [
              "  0%|          | 0/20 [00:00<?, ?it/s]"
            ],
            "application/vnd.jupyter.widget-view+json": {
              "version_major": 2,
              "version_minor": 0,
              "model_id": "ccfceeedc6a846c390cd535efe41fdfa"
            }
          },
          "metadata": {}
        },
        {
          "output_type": "stream",
          "name": "stdout",
          "text": [
            "Modelo ALS entrenado con éxito.\n"
          ]
        }
      ]
    },
    {
      "cell_type": "code",
      "source": [
        "# Implicit espera que los usuarios sean las filas, así que debemos asegurarnos de que pasamos un usuario válido\n",
        "user_id = 0  # El cliente es el único usuario en este caso\n",
        "\n",
        "# Obtener recomendaciones para el cliente\n",
        "recommended_freelancers = model.recommend(user_id, freelancer_matrix[user_id], N=5)\n",
        "\n",
        "# Mostrar los freelancers recomendados\n",
        "recommended_freelancers_df = df_freelancers.iloc[[rec[0] for rec in recommended_freelancers]][['Freelancer', 'Habilidades']]\n",
        "\n",
        "print(\"Top Freelancers Recomendados según Implicit ALS:\")\n",
        "print(recommended_freelancers_df)\n"
      ],
      "metadata": {
        "colab": {
          "base_uri": "https://localhost:8080/"
        },
        "id": "vM1B87RN2AJK",
        "outputId": "9e6fbb40-adbc-45e4-ba88-ecfe0321b17c"
      },
      "execution_count": null,
      "outputs": [
        {
          "output_type": "stream",
          "name": "stdout",
          "text": [
            "Top Freelancers Recomendados según Implicit ALS:\n",
            "       Freelancer                                        Habilidades\n",
            "54  Freelancer_55  [art design, graphic, logo, print, animation, ...\n",
            "0    Freelancer_1  [ad copy, blog writing, copywriting, editor, p...\n"
          ]
        }
      ]
    },
    {
      "cell_type": "code",
      "source": [
        "# Obtener las palabras más relevantes del vectorizador\n",
        "feature_names = vectorizer.get_feature_names_out()\n",
        "\n",
        "# Extraer los pesos de las habilidades\n",
        "skills_weights = skills_matrix.toarray().mean(axis=0)\n",
        "\n",
        "# Crear un DataFrame con las palabras más importantes\n",
        "df_keywords = pd.DataFrame({\n",
        "    'Palabra': feature_names,\n",
        "    'Peso': skills_weights\n",
        "}).sort_values(by='Peso', ascending=False)\n",
        "\n",
        "# Mostrar las palabras más relevantes en la recomendación\n",
        "print(\"Palabras clave más relevantes en la vectorización de habilidades:\")\n",
        "print(df_keywords.head(20))\n"
      ],
      "metadata": {
        "colab": {
          "base_uri": "https://localhost:8080/"
        },
        "id": "RFzLiIb52jGR",
        "outputId": "d986b981-8664-4728-eed5-2142208906b5"
      },
      "execution_count": null,
      "outputs": [
        {
          "output_type": "stream",
          "name": "stdout",
          "text": [
            "Palabras clave más relevantes en la vectorización de habilidades:\n",
            "        Palabra      Peso\n",
            "9           art  0.183199\n",
            "85      writing  0.124309\n",
            "13     branding  0.097648\n",
            "30      graphic  0.086491\n",
            "21       design  0.083850\n",
            "23    direction  0.082297\n",
            "40         logo  0.076392\n",
            "66       social  0.075960\n",
            "43        media  0.075960\n",
            "49    photoshop  0.073062\n",
            "25      editing  0.073062\n",
            "52        print  0.067991\n",
            "77           ux  0.057627\n",
            "69   storyboard  0.053624\n",
            "76         user  0.052217\n",
            "34    interface  0.049867\n",
            "84   wireframes  0.048902\n",
            "32         html  0.046304\n",
            "26       editor  0.045767\n",
            "17  copywriting  0.044508\n"
          ]
        }
      ]
    }
  ]
}